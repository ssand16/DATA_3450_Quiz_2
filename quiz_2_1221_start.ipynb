{
 "cells": [
  {
   "cell_type": "code",
   "execution_count": 1,
   "metadata": {},
   "outputs": [],
   "source": [
    "#import thinkplot\n",
    "#import thinkstats2\n",
    "import pandas as pd\n",
    "import numpy as np\n",
    "import math\n",
    "import scipy.stats as ss\n",
    "import thinkplot\n",
    "import thinkstats2\n",
    "from sklearn.metrics import mean_squared_error\n",
    "from sklearn.linear_model import LinearRegression\n",
    "\n",
    "##Seaborn for fancy plots. \n",
    "import matplotlib.pyplot as plt\n",
    "import seaborn as sns\n",
    "plt.rcParams[\"figure.figsize\"] = (15,5)"
   ]
  },
  {
   "cell_type": "markdown",
   "metadata": {},
   "source": [
    "# Quiz 2 - Get Hyp'\n",
    "\n",
    "<ul>\n",
    "<li> Use this as a starting point for your work, but answer the questions on Moodle. \n",
    "<li> Publish this to your GitHub and submit the link in the question on Moodle. \n",
    "</ul>"
   ]
  },
  {
   "cell_type": "markdown",
   "metadata": {},
   "source": [
    "## Potentially Useful Information\n",
    "\n",
    "#### Data Dictionary\n",
    "<ul>\n",
    "<li>credit.policy: 1 if the customer meets the credit underwriting criteria of LendingClub.com, and 0 otherwise.\n",
    "<li>purpose: The purpose of the loan (takes values \"credit_card\", \"debt_consolidation\", \"educational\", \"major_purchase\", \"small_business\", and \"all_other\").\n",
    "<li>int.rate: The interest rate of the loan, as a proportion (a rate of 11% would be stored as 0.11). Borrowers judged by LendingClub.com to be more risky are assigned higher interest rates.\n",
    "<li>installment: The monthly installments owed by the borrower if the loan is funded.\n",
    "<li>log.annual.inc: The natural log of the self-reported annual income of the borrower.\n",
    "<li>dti: The debt-to-income ratio of the borrower (amount of debt divided by annual income).\n",
    "<li>fico: The FICO credit score of the borrower.\n",
    "<li>days.with.cr.line: The number of days the borrower has had a credit line.\n",
    "<li>revol.bal: The borrower's revolving balance (amount unpaid at the end of the credit card billing cycle).\n",
    "<li>revol.util: The borrower's revolving line utilization rate (the amount of the credit line used relative to total credit available).\n",
    "<li>inq.last.6mths: The borrower's number of inquiries by creditors in the last 6 months.\n",
    "<li>not.fully.paid: 1 if the borrower failed to repay their loan, 0 if they have not failed\n",
    "</ul>\n",
    "\n",
    "#### FICO Score Groups\n",
    "\n",
    "![FICO](fico_range.png \"FICO Ranges\")\n",
    "\n",
    "#### Note on ANOVA - Might be Useful, Might Not\n",
    "\n",
    "> @JeremyMiles is right. First, there's a rule of thumb that the ANOVA is robust to heterogeneity of variance so long as the largest variance is not more than 4 times the smallest variance. Furthermore, the general effect of heterogeneity of variance is to make the ANOVA less efficient. That is, you would have lower power. Since you have a significant effect anyway, there is less reason to be concerned here. \n",
    "- https://stats.stackexchange.com/questions/56971/alternative-to-one-way-anova-unequal-variance"
   ]
  },
  {
   "cell_type": "code",
   "execution_count": 8,
   "metadata": {},
   "outputs": [
    {
     "data": {
      "text/html": [
       "<div>\n",
       "<style scoped>\n",
       "    .dataframe tbody tr th:only-of-type {\n",
       "        vertical-align: middle;\n",
       "    }\n",
       "\n",
       "    .dataframe tbody tr th {\n",
       "        vertical-align: top;\n",
       "    }\n",
       "\n",
       "    .dataframe thead th {\n",
       "        text-align: right;\n",
       "    }\n",
       "</style>\n",
       "<table border=\"1\" class=\"dataframe\">\n",
       "  <thead>\n",
       "    <tr style=\"text-align: right;\">\n",
       "      <th></th>\n",
       "      <th>credit.policy</th>\n",
       "      <th>purpose</th>\n",
       "      <th>int.rate</th>\n",
       "      <th>installment</th>\n",
       "      <th>log.annual.inc</th>\n",
       "      <th>dti</th>\n",
       "      <th>fico</th>\n",
       "      <th>days.with.cr.line</th>\n",
       "      <th>revol.bal</th>\n",
       "      <th>revol.util</th>\n",
       "      <th>inq.last.6mths</th>\n",
       "      <th>not.fully.paid</th>\n",
       "    </tr>\n",
       "  </thead>\n",
       "  <tbody>\n",
       "    <tr>\n",
       "      <th>2195</th>\n",
       "      <td>1</td>\n",
       "      <td>small_business</td>\n",
       "      <td>0.0963</td>\n",
       "      <td>385.14</td>\n",
       "      <td>11.350407</td>\n",
       "      <td>22.11</td>\n",
       "      <td>752</td>\n",
       "      <td>5550.000000</td>\n",
       "      <td>13073</td>\n",
       "      <td>16.5</td>\n",
       "      <td>0</td>\n",
       "      <td>0</td>\n",
       "    </tr>\n",
       "    <tr>\n",
       "      <th>2580</th>\n",
       "      <td>1</td>\n",
       "      <td>all_other</td>\n",
       "      <td>0.1537</td>\n",
       "      <td>167.27</td>\n",
       "      <td>9.680094</td>\n",
       "      <td>9.98</td>\n",
       "      <td>667</td>\n",
       "      <td>1529.958333</td>\n",
       "      <td>1101</td>\n",
       "      <td>61.2</td>\n",
       "      <td>1</td>\n",
       "      <td>0</td>\n",
       "    </tr>\n",
       "    <tr>\n",
       "      <th>8406</th>\n",
       "      <td>0</td>\n",
       "      <td>debt_consolidation</td>\n",
       "      <td>0.1355</td>\n",
       "      <td>271.68</td>\n",
       "      <td>11.225243</td>\n",
       "      <td>4.22</td>\n",
       "      <td>662</td>\n",
       "      <td>4559.041667</td>\n",
       "      <td>1053</td>\n",
       "      <td>40.5</td>\n",
       "      <td>7</td>\n",
       "      <td>0</td>\n",
       "    </tr>\n",
       "    <tr>\n",
       "      <th>8228</th>\n",
       "      <td>0</td>\n",
       "      <td>debt_consolidation</td>\n",
       "      <td>0.1292</td>\n",
       "      <td>188.48</td>\n",
       "      <td>10.308953</td>\n",
       "      <td>8.20</td>\n",
       "      <td>662</td>\n",
       "      <td>1019.041667</td>\n",
       "      <td>18718</td>\n",
       "      <td>68.1</td>\n",
       "      <td>2</td>\n",
       "      <td>1</td>\n",
       "    </tr>\n",
       "    <tr>\n",
       "      <th>7490</th>\n",
       "      <td>1</td>\n",
       "      <td>all_other</td>\n",
       "      <td>0.1136</td>\n",
       "      <td>263.29</td>\n",
       "      <td>11.987106</td>\n",
       "      <td>5.27</td>\n",
       "      <td>707</td>\n",
       "      <td>7200.041667</td>\n",
       "      <td>7351</td>\n",
       "      <td>94.2</td>\n",
       "      <td>1</td>\n",
       "      <td>0</td>\n",
       "    </tr>\n",
       "    <tr>\n",
       "      <th>6106</th>\n",
       "      <td>1</td>\n",
       "      <td>credit_card</td>\n",
       "      <td>0.1218</td>\n",
       "      <td>599.40</td>\n",
       "      <td>11.440355</td>\n",
       "      <td>10.61</td>\n",
       "      <td>722</td>\n",
       "      <td>4491.041667</td>\n",
       "      <td>28960</td>\n",
       "      <td>22.2</td>\n",
       "      <td>1</td>\n",
       "      <td>0</td>\n",
       "    </tr>\n",
       "    <tr>\n",
       "      <th>6452</th>\n",
       "      <td>1</td>\n",
       "      <td>debt_consolidation</td>\n",
       "      <td>0.1496</td>\n",
       "      <td>866.13</td>\n",
       "      <td>11.373663</td>\n",
       "      <td>24.19</td>\n",
       "      <td>707</td>\n",
       "      <td>10591.000000</td>\n",
       "      <td>13580</td>\n",
       "      <td>48.5</td>\n",
       "      <td>3</td>\n",
       "      <td>0</td>\n",
       "    </tr>\n",
       "    <tr>\n",
       "      <th>4014</th>\n",
       "      <td>1</td>\n",
       "      <td>debt_consolidation</td>\n",
       "      <td>0.1411</td>\n",
       "      <td>444.98</td>\n",
       "      <td>11.097410</td>\n",
       "      <td>17.51</td>\n",
       "      <td>682</td>\n",
       "      <td>5669.958333</td>\n",
       "      <td>22388</td>\n",
       "      <td>91.3</td>\n",
       "      <td>3</td>\n",
       "      <td>0</td>\n",
       "    </tr>\n",
       "    <tr>\n",
       "      <th>1080</th>\n",
       "      <td>1</td>\n",
       "      <td>debt_consolidation</td>\n",
       "      <td>0.0945</td>\n",
       "      <td>233.67</td>\n",
       "      <td>10.631036</td>\n",
       "      <td>16.52</td>\n",
       "      <td>727</td>\n",
       "      <td>3135.000000</td>\n",
       "      <td>2185</td>\n",
       "      <td>15.4</td>\n",
       "      <td>0</td>\n",
       "      <td>0</td>\n",
       "    </tr>\n",
       "    <tr>\n",
       "      <th>6550</th>\n",
       "      <td>1</td>\n",
       "      <td>debt_consolidation</td>\n",
       "      <td>0.0859</td>\n",
       "      <td>316.11</td>\n",
       "      <td>11.918391</td>\n",
       "      <td>15.75</td>\n",
       "      <td>757</td>\n",
       "      <td>4830.041667</td>\n",
       "      <td>42160</td>\n",
       "      <td>59.4</td>\n",
       "      <td>1</td>\n",
       "      <td>1</td>\n",
       "    </tr>\n",
       "  </tbody>\n",
       "</table>\n",
       "</div>"
      ],
      "text/plain": [
       "      credit.policy             purpose  int.rate  installment  \\\n",
       "2195              1      small_business    0.0963       385.14   \n",
       "2580              1           all_other    0.1537       167.27   \n",
       "8406              0  debt_consolidation    0.1355       271.68   \n",
       "8228              0  debt_consolidation    0.1292       188.48   \n",
       "7490              1           all_other    0.1136       263.29   \n",
       "6106              1         credit_card    0.1218       599.40   \n",
       "6452              1  debt_consolidation    0.1496       866.13   \n",
       "4014              1  debt_consolidation    0.1411       444.98   \n",
       "1080              1  debt_consolidation    0.0945       233.67   \n",
       "6550              1  debt_consolidation    0.0859       316.11   \n",
       "\n",
       "      log.annual.inc    dti  fico  days.with.cr.line  revol.bal  revol.util  \\\n",
       "2195       11.350407  22.11   752        5550.000000      13073        16.5   \n",
       "2580        9.680094   9.98   667        1529.958333       1101        61.2   \n",
       "8406       11.225243   4.22   662        4559.041667       1053        40.5   \n",
       "8228       10.308953   8.20   662        1019.041667      18718        68.1   \n",
       "7490       11.987106   5.27   707        7200.041667       7351        94.2   \n",
       "6106       11.440355  10.61   722        4491.041667      28960        22.2   \n",
       "6452       11.373663  24.19   707       10591.000000      13580        48.5   \n",
       "4014       11.097410  17.51   682        5669.958333      22388        91.3   \n",
       "1080       10.631036  16.52   727        3135.000000       2185        15.4   \n",
       "6550       11.918391  15.75   757        4830.041667      42160        59.4   \n",
       "\n",
       "      inq.last.6mths  not.fully.paid  \n",
       "2195               0               0  \n",
       "2580               1               0  \n",
       "8406               7               0  \n",
       "8228               2               1  \n",
       "7490               1               0  \n",
       "6106               1               0  \n",
       "6452               3               0  \n",
       "4014               3               0  \n",
       "1080               0               0  \n",
       "6550               1               1  "
      ]
     },
     "execution_count": 8,
     "metadata": {},
     "output_type": "execute_result"
    }
   ],
   "source": [
    "# Please don't alter this part. \n",
    "df = pd.read_csv(\"loan_data.csv\")\n",
    "df.drop(columns={\"delinq.2yrs\", \"pub.rec\"}, inplace=True)\n",
    "df.sample(10)"
   ]
  },
  {
   "cell_type": "markdown",
   "metadata": {},
   "source": [
    "### Visualize/Explore Data - If You Want, You Do You"
   ]
  },
  {
   "cell_type": "code",
   "execution_count": 6,
   "metadata": {},
   "outputs": [
    {
     "name": "stdout",
     "output_type": "stream",
     "text": [
      "Significant difference\n"
     ]
    }
   ],
   "source": [
    "fico_score_notpaid = df[df['not.fully.paid'] < 1 ]\n",
    "fico_score_paid = df[df['not.fully.paid'] > 0]\n",
    "\n",
    "# doing a t-test\n",
    "stat, pval = ss.ttest_ind(fico_score_notpaid['fico'],fico_score_paid['fico'])\n",
    "\n",
    "cutoff = 0.05\n",
    "\n",
    "if pval < cutoff:\n",
    "    print(\"Significant difference\")\n",
    "else:\n",
    "    print(\"No significant difference\")\n",
    "\n",
    "\n",
    "\n",
    "\n"
   ]
  },
  {
   "cell_type": "markdown",
   "metadata": {},
   "source": [
    "## Solutions"
   ]
  },
  {
   "cell_type": "code",
   "execution_count": 10,
   "metadata": {},
   "outputs": [
    {
     "name": "stdout",
     "output_type": "stream",
     "text": [
      "No significant difference\n"
     ]
    }
   ],
   "source": [
    "credit_worthy = df[df['credit.policy'] > 0]\n",
    "credit_notworthy = df[df['credit.policy'] > 0]\n",
    "\n",
    "#doing a t-test\n",
    "\n",
    "stat,pval=ss.ttest_ind(credit_worthy['fico'],credit_notworthy['fico'])\n",
    "\n",
    "cutoff = 0.05\n",
    "\n",
    "if pval < cutoff:\n",
    "    print(\"Significant difference\")\n",
    "else:\n",
    "    print(\"No significant difference\")\n",
    "\n"
   ]
  },
  {
   "cell_type": "code",
   "execution_count": 22,
   "metadata": {},
   "outputs": [
    {
     "name": "stdout",
     "output_type": "stream",
     "text": [
      "No significant difference\n"
     ]
    }
   ],
   "source": [
    "credit_worthy = df[df['credit.policy'] > 0]\n",
    "credit_notworthy = df[df['credit.policy'] > 0]\n",
    "\n",
    "#doing a t-test\n",
    "\n",
    "stat,pval=ss.ttest_ind(credit_worthy['log.annual.inc'],credit_notworthy['log.annual.inc'])\n",
    "\n",
    "cutoff = 0.05\n",
    "\n",
    "if pval < cutoff:\n",
    "    print(\"Significant difference\")\n",
    "else:\n",
    "    print(\"No significant difference\")"
   ]
  },
  {
   "cell_type": "code",
   "execution_count": 23,
   "metadata": {},
   "outputs": [
    {
     "name": "stderr",
     "output_type": "stream",
     "text": [
      "c:\\Users\\Sandu\\anaconda3\\lib\\site-packages\\statsmodels\\stats\\power.py:339: HypothesisTestWarning: Warning: Effect size of 0 detected\n",
      "  warnings.warn('Warning: Effect size of 0 detected', HypothesisTestWarning)\n"
     ]
    },
    {
     "ename": "ValueError",
     "evalue": "Cannot detect an effect-size of 0. Try changing your effect-size.",
     "output_type": "error",
     "traceback": [
      "\u001b[1;31m---------------------------------------------------------------------------\u001b[0m",
      "\u001b[1;31mValueError\u001b[0m                                Traceback (most recent call last)",
      "\u001b[1;32mc:\\Users\\Sandu\\DATA_3450_Quiz_2\\quiz_2_1221_start.ipynb Cell 10\u001b[0m in \u001b[0;36m<cell line: 7>\u001b[1;34m()\u001b[0m\n\u001b[0;32m      <a href='vscode-notebook-cell:/c%3A/Users/Sandu/DATA_3450_Quiz_2/quiz_2_1221_start.ipynb#X12sZmlsZQ%3D%3D?line=2'>3</a>\u001b[0m ces \u001b[39m=\u001b[39m thinkstats2\u001b[39m.\u001b[39mCohenEffectSize(credit_worthy[\u001b[39m'\u001b[39m\u001b[39mlog.annual.inc\u001b[39m\u001b[39m'\u001b[39m],credit_notworthy[\u001b[39m'\u001b[39m\u001b[39mlog.annual.inc\u001b[39m\u001b[39m'\u001b[39m])\n\u001b[0;32m      <a href='vscode-notebook-cell:/c%3A/Users/Sandu/DATA_3450_Quiz_2/quiz_2_1221_start.ipynb#X12sZmlsZQ%3D%3D?line=4'>5</a>\u001b[0m powerTest \u001b[39m=\u001b[39m TTestPower()\n\u001b[1;32m----> <a href='vscode-notebook-cell:/c%3A/Users/Sandu/DATA_3450_Quiz_2/quiz_2_1221_start.ipynb#X12sZmlsZQ%3D%3D?line=6'>7</a>\u001b[0m n \u001b[39m=\u001b[39m powerTest\u001b[39m.\u001b[39;49msolve_power(ces,power\u001b[39m=\u001b[39;49m\u001b[39m0.85\u001b[39;49m,nobs\u001b[39m=\u001b[39;49m\u001b[39mNone\u001b[39;49;00m,alpha\u001b[39m=\u001b[39;49m\u001b[39m0.05\u001b[39;49m)\n",
      "File \u001b[1;32mc:\\Users\\Sandu\\anaconda3\\lib\\site-packages\\statsmodels\\stats\\power.py:615\u001b[0m, in \u001b[0;36mTTestPower.solve_power\u001b[1;34m(self, effect_size, nobs, alpha, power, alternative)\u001b[0m\n\u001b[0;32m    558\u001b[0m \u001b[39m'''solve for any one parameter of the power of a one sample t-test\u001b[39;00m\n\u001b[0;32m    559\u001b[0m \n\u001b[0;32m    560\u001b[0m \u001b[39mfor the one sample t-test the keywords are:\u001b[39;00m\n\u001b[1;32m   (...)\u001b[0m\n\u001b[0;32m    611\u001b[0m \n\u001b[0;32m    612\u001b[0m \u001b[39m'''\u001b[39;00m\n\u001b[0;32m    613\u001b[0m \u001b[39m# for debugging\u001b[39;00m\n\u001b[0;32m    614\u001b[0m \u001b[39m#print 'calling ttest solve with', (effect_size, nobs, alpha, power, alternative)\u001b[39;00m\n\u001b[1;32m--> 615\u001b[0m \u001b[39mreturn\u001b[39;00m \u001b[39msuper\u001b[39;49m(TTestPower, \u001b[39mself\u001b[39;49m)\u001b[39m.\u001b[39;49msolve_power(effect_size\u001b[39m=\u001b[39;49meffect_size,\n\u001b[0;32m    616\u001b[0m                                               nobs\u001b[39m=\u001b[39;49mnobs,\n\u001b[0;32m    617\u001b[0m                                               alpha\u001b[39m=\u001b[39;49malpha,\n\u001b[0;32m    618\u001b[0m                                               power\u001b[39m=\u001b[39;49mpower,\n\u001b[0;32m    619\u001b[0m                                               alternative\u001b[39m=\u001b[39;49malternative)\n",
      "File \u001b[1;32mc:\\Users\\Sandu\\anaconda3\\lib\\site-packages\\statsmodels\\stats\\power.py:345\u001b[0m, in \u001b[0;36mPower.solve_power\u001b[1;34m(self, **kwds)\u001b[0m\n\u001b[0;32m    343\u001b[0m         \u001b[39mreturn\u001b[39;00m kwds[\u001b[39m'\u001b[39m\u001b[39mpower\u001b[39m\u001b[39m'\u001b[39m]\n\u001b[0;32m    344\u001b[0m     \u001b[39melse\u001b[39;00m:\n\u001b[1;32m--> 345\u001b[0m         \u001b[39mraise\u001b[39;00m \u001b[39mValueError\u001b[39;00m(\u001b[39m'\u001b[39m\u001b[39mCannot detect an effect-size of 0. Try changing your effect-size.\u001b[39m\u001b[39m'\u001b[39m)\n\u001b[0;32m    348\u001b[0m \u001b[39mself\u001b[39m\u001b[39m.\u001b[39m_counter \u001b[39m=\u001b[39m \u001b[39m0\u001b[39m\n\u001b[0;32m    350\u001b[0m \u001b[39mdef\u001b[39;00m \u001b[39mfunc\u001b[39m(x):\n",
      "\u001b[1;31mValueError\u001b[0m: Cannot detect an effect-size of 0. Try changing your effect-size."
     ]
    }
   ],
   "source": [
    "from statsmodels.stats.power import TTestPower\n",
    "\n",
    "ces = thinkstats2.CohenEffectSize(credit_worthy['log.annual.inc'],credit_notworthy['log.annual.inc'])\n",
    "\n",
    "powerTest = TTestPower()\n",
    "\n",
    "n = powerTest.solve_power(ces,power=0.85,nobs=None,alpha=0.05)"
   ]
  },
  {
   "cell_type": "code",
   "execution_count": 24,
   "metadata": {},
   "outputs": [
    {
     "name": "stdout",
     "output_type": "stream",
     "text": [
      "10.932117137800155\n"
     ]
    }
   ],
   "source": [
    "mean_income = df['log.annual.inc'].mean()\n",
    "print(mean_income)"
   ]
  },
  {
   "cell_type": "code",
   "execution_count": 27,
   "metadata": {},
   "outputs": [
    {
     "data": {
      "text/plain": [
       "<AxesSubplot:xlabel='log.annual.inc', ylabel='Count'>"
      ]
     },
     "execution_count": 27,
     "metadata": {},
     "output_type": "execute_result"
    },
    {
     "data": {
      "image/png": "[encoded data removed]",
      "text/plain": [
       "<Figure size 1080x360 with 1 Axes>"
      ]
     },
     "metadata": {
      "needs_background": "light"
     },
     "output_type": "display_data"
    }
   ],
   "source": [
    "sns.histplot(df['log.annual.inc'])\n"
   ]
  },
  {
   "cell_type": "code",
   "execution_count": 28,
   "metadata": {},
   "outputs": [
    {
     "data": {
      "text/plain": [
       "<AxesSubplot:xlabel='days.with.cr.line', ylabel='Count'>"
      ]
     },
     "execution_count": 28,
     "metadata": {},
     "output_type": "execute_result"
    },
    {
     "data": {
      "image/png": "[encoded data removed]",
      "text/plain": [
       "<Figure size 1080x360 with 1 Axes>"
      ]
     },
     "metadata": {
      "needs_background": "light"
     },
     "output_type": "display_data"
    }
   ],
   "source": [
    "sns.histplot(df['days.with.cr.line'])"
   ]
  },
  {
   "cell_type": "code",
   "execution_count": 29,
   "metadata": {},
   "outputs": [
    {
     "data": {
      "text/plain": [
       "<AxesSubplot:xlabel='fico', ylabel='Count'>"
      ]
     },
     "execution_count": 29,
     "metadata": {},
     "output_type": "execute_result"
    },
    {
     "data": {
      "image/png": "[encoded data removed]",
      "text/plain": [
       "<Figure size 1080x360 with 1 Axes>"
      ]
     },
     "metadata": {
      "needs_background": "light"
     },
     "output_type": "display_data"
    }
   ],
   "source": [
    "sns.histplot(df['fico'])"
   ]
  }
 ],
 "metadata": {
  "kernelspec": {
   "display_name": "Python 3.9.12 ('base')",
   "language": "python",
   "name": "python3"
  },
  "language_info": {
   "codemirror_mode": {
    "name": "ipython",
    "version": 3
   },
   "file_extension": ".py",
   "mimetype": "text/x-python",
   "name": "python",
   "nbconvert_exporter": "python",
   "pygments_lexer": "ipython3",
   "version": "3.9.12"
  },
  "orig_nbformat": 4,
  "vscode": {
   "interpreter": {
    "hash": "0e82837ce34550d6806e9c95f03eb6c1019d850c14050bd7120b7a97e22339c0"
   }
  }
 },
 "nbformat": 4,
 "nbformat_minor": 2
}
